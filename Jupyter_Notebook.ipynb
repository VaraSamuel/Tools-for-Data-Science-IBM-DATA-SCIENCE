{
 "cells": [
  {
   "cell_type": "markdown",
   "metadata": {},
   "source": [
    "Jupyter_Notebook<center>\n",
    "    <img src=\"https://cf-courses-data.s3.us.cloud-object-storage.appdomain.cloud/IBMDeveloperSkillsNetwork-DS0105EN-SkillsNetwork/labs/Module2/images/SN_web_lightmode.png\" width=\"300\" alt=\"cognitiveclass.ai logo\">\n",
    "</center>\n"
   ]
  },
  {
   "cell_type": "markdown",
   "metadata": {},
   "source": [
    "#### Add your code below following the instructions given in the course\n"
   ]
  },
  {
   "cell_type": "markdown",
   "metadata": {},
   "source": [
    "Hi I'm Vara Samuel Prabhakar, and this is my Jupyter Notebook for Peer Graded Assignment."
   ]
  },
  {
   "cell_type": "markdown",
   "metadata": {},
   "source": [
    "Data science languages.\n",
    "1. Python\n",
    "2. SQL\n",
    "3. R\n",
    "4. Scala\n",
    "5. Java\n",
    "6. Julia\n",
    "7. Javascript\n",
    "8. GO\n",
    "9. MATLAB\n",
    "10. C++"
   ]
  },
  {
   "cell_type": "markdown",
   "metadata": {},
   "source": [
    "Data Science Libraries-\n",
    "1. Scikit\n",
    "2. PyTorch\n",
    "3. TensorFlow\n",
    "4. Theano\n",
    "5. Pandas\n",
    "6. NumPy"
   ]
  },
  {
   "cell_type": "markdown",
   "metadata": {},
   "source": [
    "Data Science Tools- \n",
    "1. Apache Spark\n",
    "2. D3.js\n",
    "3. Julia\n",
    "4. Keras\n",
    "5. Matlab\n",
    "6. Matplotlib"
   ]
  },
  {
   "cell_type": "markdown",
   "metadata": {},
   "source": [
    "$$\\hat{Y} = \\hat{\\beta}_{0} + \\sum \\limits _{j=1} ^{p} X_{j}\\hat{\\beta}_{j} $$"
   ]
  },
  {
   "cell_type": "code",
   "execution_count": 4,
   "metadata": {},
   "outputs": [
    {
     "name": "stdout",
     "output_type": "stream",
     "text": [
      "5\n",
      "9\n",
      "14 45\n"
     ]
    }
   ],
   "source": [
    "a = int(input())\n",
    "b = int(input())\n",
    "add = a+b\n",
    "mul = a*b\n",
    "print(add, mul)"
   ]
  },
  {
   "cell_type": "code",
   "execution_count": 3,
   "metadata": {},
   "outputs": [
    {
     "name": "stdout",
     "output_type": "stream",
     "text": [
      "180\n",
      "3.0 hours\n"
     ]
    }
   ],
   "source": [
    "min = int(input())\n",
    "print(min/60, \"hours\")"
   ]
  },
  {
   "cell_type": "markdown",
   "metadata": {},
   "source": [
    "Objectives: -\n",
    "\n",
    "Work with Jupyter Notebooks, \n",
    "JupyterLab, \n",
    "RStudio IDE, \n",
    "Git, \n",
    "GitHub, \n",
    "and Watson Studio.\n",
    "\n",
    "What programming languages they can execute, their features and limitations. \n",
    "\n",
    "Data Scientists ToolKit\n",
    "        Python, R, Scala, and SQL and about the packages, APIs, data sets and models frequently used by Data Scientists.\n",
    "Open Source Tools\n",
    "        Learnt about three popular tools used in data science: GitHub, Jupyter Notebooks, and RStudio IDE\n",
    "IBM Tools for Data Science\n",
    "        Learn about an enterprise-ready data science platform by IBM, called Watson Studio.\n",
    "        Learn about some of the features and capabilities of what data scientists use in the industry.\n",
    "        Learn about other IBM tools used to support data science projects, such as IBM Watson Knowledge Catalog, Data Refinery, and the SPSS Modeler."
   ]
  },
  {
   "cell_type": "markdown",
   "metadata": {},
   "source": [
    "Author's Name: -\n",
    "\n",
    "Aije Egwaikhide, \n",
    "Romeo Kienzler, \n",
    "Svetlana Levitan"
   ]
  }
 ],
 "metadata": {
  "kernelspec": {
   "display_name": "Python 3 (ipykernel)",
   "language": "python",
   "name": "python3"
  },
  "language_info": {
   "codemirror_mode": {
    "name": "ipython",
    "version": 3
   },
   "file_extension": ".py",
   "mimetype": "text/x-python",
   "name": "python",
   "nbconvert_exporter": "python",
   "pygments_lexer": "ipython3",
   "version": "3.9.7"
  }
 },
 "nbformat": 4,
 "nbformat_minor": 4
}
